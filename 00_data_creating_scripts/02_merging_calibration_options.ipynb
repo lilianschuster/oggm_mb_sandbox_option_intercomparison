{
 "cells": [
  {
   "cell_type": "markdown",
   "id": "dfead056-4f87-4436-b925-798b99878d4a",
   "metadata": {},
   "source": [
    "# Merging calibration options and create $p_f$ for $C_4$ and $C_5$\n",
    "\n",
    "- statistics of glaciers with additional in-situ data included as well"
   ]
  },
  {
   "cell_type": "markdown",
   "id": "3810b39b-305d-4305-91d1-336ab66bddf7",
   "metadata": {},
   "source": [
    "Calibration of $C_{1,2,3}$ was done in http://localhost:6261/lab/tree/Schuster_et_al_phd_paper_1_cluster/00_freq_5calib_options_ref_glaciers.py using the http://localhost:6261/lab/tree/Schuster_et_al_phd_paper_1_cluster/slurm_freq_5calib.slurm script via:\n",
    "- `sbatch 01_slurm_freq_5calib.slurm \"C1_C2\"`\n",
    "- `sbatch 01_slurm_freq_5calib.slurm \"C3\"`\n",
    "\n",
    "\n",
    "what about -> http://localhost:6261/lab/tree/Schuster_et_al_phd_paper_1_cluster/README.txt"
   ]
  },
  {
   "cell_type": "code",
   "execution_count": 34,
   "id": "9ae312a1-d84c-4353-a662-f5b734b7f9a8",
   "metadata": {},
   "outputs": [],
   "source": [
    "#pip install --upgrade \"git+https://github.com/OGGM/oggm.git@a3123b56b3b5bac964eaab7742aa73bc2507c067\"\n",
    "#pip install --upgrade \"git+https://github.com/lilianschuster/massbalance-sandbox.git@b6b37240868ba35944523fc2b3e493652fcb1f22\"\n",
    "#pip install --upgrade \"git+https://github.com/OGGM/oggm-sample-data.git\""
   ]
  },
  {
   "cell_type": "code",
   "execution_count": 1,
   "id": "d5795aac-ff7f-46db-8e73-42bd45f8c0fc",
   "metadata": {},
   "outputs": [],
   "source": [
    "import seaborn as sns\n",
    "import matplotlib.pyplot as plt\n",
    "plt.rc('font', size=20)\n",
    "import warnings\n",
    "warnings.filterwarnings(\"once\", category=DeprecationWarning)  # noqa: E402\n",
    "import scipy\n",
    "# imports from OGGM\n",
    "import oggm\n",
    "from oggm import utils, workflow, tasks, cfg, entity_task\n",
    "import numpy as np\n",
    "import pandas as pd\n",
    "from MBsandbox.mbmod_daily_oneflowline import (TIModel_Sfc_Type, process_w5e5_data)\n",
    "from MBsandbox.wip.projections_bayescalibration import (process_isimip_data,\n",
    "                                                        process_isimip_data_no_corr)\n",
    "from MBsandbox.help_func import (minimize_winter_mb_brentq_geod_via_pf, minimize_bias_geodetic,\n",
    "                                 calibrate_to_geodetic_bias_winter_mb)\n",
    "from MBsandbox.mbmod_daily_oneflowline import compile_fixed_geometry_mass_balance_TIModel\n",
    "import time\n",
    "import logging\n",
    "\n",
    "log = logging.getLogger(__name__)"
   ]
  },
  {
   "cell_type": "code",
   "execution_count": 2,
   "id": "e5facb9b-843d-4d64-9b53-499494ea7929",
   "metadata": {},
   "outputs": [
    {
     "name": "stderr",
     "output_type": "stream",
     "text": [
      "2023-01-10 23:46:13: oggm.cfg: Reading default parameters from the OGGM `params.cfg` configuration file.\n",
      "2023-01-10 23:46:13: oggm.cfg: Multiprocessing switched OFF according to the parameter file.\n",
      "2023-01-10 23:46:13: oggm.cfg: Multiprocessing: using all available processors (N=32)\n",
      "2023-01-10 23:46:13: oggm.cfg: Multiprocessing switched ON after user settings.\n",
      "2023-01-10 23:46:13: oggm.cfg: PARAMS['continue_on_error'] changed from `False` to `True`.\n"
     ]
    }
   ],
   "source": [
    "\n",
    "_, pathi = utils.get_wgms_files()\n",
    "pd_mb_overview = pd.read_csv(pathi[:-len('/mbdata')] + '/mb_overview_seasonal_mb_time_periods_20220301.csv',\n",
    "                             index_col='Unnamed: 0')\n",
    "pd_wgms_data_stats = pd.read_csv(pathi[:-len('/mbdata')] + '/wgms_data_stats_20220301.csv', index_col='Unnamed: 0')\n",
    "\n",
    "# should have at least 5 annual MB estimates in the time period 1980-2019\n",
    "# (otherwise can also not have MB profiles or winter MB!)\n",
    "pd_wgms_data_stats = pd_wgms_data_stats.loc[pd_wgms_data_stats.len_annual_balance>=5]\n",
    "ref_candidates = pd_wgms_data_stats.rgi_id.unique()\n",
    "import xarray as xr\n",
    "working_dir = '/home/users/lschuster/Schuster_et_al_phd_paper_1_cluster/oggm_run_gdir_folder/node_folder'\n",
    "#/home/lilianschuster/Schreibtisch/PhD/Schuster_et_al_phd_paper_1/data/per_glacier_calib_data/cluster_freq_per_glacier_calib_data/my_run\n",
    "#utils.gettempdir(dirname='OGGM_seasonal_mb_calib', reset=False)\n",
    "#Schreibtisch/PhD/Schuster_et_al_phd_paper_1/data/per_glacier_calib_data/cluster_freq_per_glacier_calib_data/my_run/per_glacier\n",
    "cfg.initialize()\n",
    "cfg.PARAMS['use_multiprocessing'] = True #True\n",
    "cfg.PATHS['working_dir'] = working_dir\n",
    "cfg.PARAMS['hydro_month_nh'] = 1\n",
    "cfg.PARAMS['hydro_month_sh'] = 1\n",
    "cfg.PARAMS['continue_on_error'] = True\n",
    "warnings.filterwarnings(\"ignore\", category=DeprecationWarning) "
   ]
  },
  {
   "cell_type": "code",
   "execution_count": 37,
   "id": "5f0fc093-2d43-4121-94b6-7f989a65eef1",
   "metadata": {},
   "outputs": [
    {
     "name": "stderr",
     "output_type": "stream",
     "text": [
      "2023-01-10 22:42:07: oggm.workflow: Execute entity tasks [GlacierDirectory] on 247 glaciers\n"
     ]
    }
   ],
   "source": [
    "gdirs = workflow.init_glacier_directories(ref_candidates)"
   ]
  },
  {
   "cell_type": "code",
   "execution_count": 38,
   "id": "227f2ca6-690d-47c7-b2dc-0202cc2db2f8",
   "metadata": {},
   "outputs": [
    {
     "ename": "ValueError",
     "evalue": "DocumentedDict accepts only tuple of len 2",
     "output_type": "error",
     "traceback": [
      "\u001b[0;31m---------------------------------------------------------------------------\u001b[0m",
      "\u001b[0;31mValueError\u001b[0m                                Traceback (most recent call last)",
      "File \u001b[0;32m~/.local/lib/python3.10/site-packages/oggm/cfg.py:71\u001b[0m, in \u001b[0;36mDocumentedDict.__setitem__\u001b[0;34m(self, key, value)\u001b[0m\n\u001b[1;32m     70\u001b[0m \u001b[38;5;28;01mtry\u001b[39;00m:\n\u001b[0;32m---> 71\u001b[0m     \u001b[38;5;28;43mself\u001b[39;49m\u001b[38;5;241;43m.\u001b[39;49m\u001b[43m_set_key\u001b[49m\u001b[43m(\u001b[49m\u001b[43mkey\u001b[49m\u001b[43m,\u001b[49m\u001b[43m \u001b[49m\u001b[43mvalue\u001b[49m\u001b[43m[\u001b[49m\u001b[38;5;241;43m0\u001b[39;49m\u001b[43m]\u001b[49m\u001b[43m,\u001b[49m\u001b[43m \u001b[49m\u001b[43mdocstr\u001b[49m\u001b[38;5;241;43m=\u001b[39;49m\u001b[43mvalue\u001b[49m\u001b[43m[\u001b[49m\u001b[38;5;241;43m1\u001b[39;49m\u001b[43m]\u001b[49m\u001b[43m)\u001b[49m\n\u001b[1;32m     72\u001b[0m     CONFIG_MODIFIED \u001b[38;5;241m=\u001b[39m \u001b[38;5;28;01mTrue\u001b[39;00m\n",
      "File \u001b[0;32m~/.local/lib/python3.10/site-packages/oggm/cfg.py:63\u001b[0m, in \u001b[0;36mDocumentedDict._set_key\u001b[0;34m(self, key, value, docstr)\u001b[0m\n\u001b[1;32m     62\u001b[0m \u001b[38;5;28;01mif\u001b[39;00m key \u001b[38;5;129;01min\u001b[39;00m \u001b[38;5;28mself\u001b[39m:\n\u001b[0;32m---> 63\u001b[0m     \u001b[38;5;28;01mraise\u001b[39;00m \u001b[38;5;167;01mValueError\u001b[39;00m(\u001b[38;5;124m'\u001b[39m\u001b[38;5;124mCannot overwrite a key.\u001b[39m\u001b[38;5;124m'\u001b[39m)\n\u001b[1;32m     64\u001b[0m \u001b[38;5;28mdict\u001b[39m\u001b[38;5;241m.\u001b[39m\u001b[38;5;21m__setitem__\u001b[39m(\u001b[38;5;28mself\u001b[39m, key, value)\n",
      "\u001b[0;31mValueError\u001b[0m: Cannot overwrite a key.",
      "\nDuring handling of the above exception, another exception occurred:\n",
      "\u001b[0;31mValueError\u001b[0m                                Traceback (most recent call last)",
      "Input \u001b[0;32mIn [38]\u001b[0m, in \u001b[0;36m<cell line: 2>\u001b[0;34m()\u001b[0m\n\u001b[1;32m      1\u001b[0m _doc \u001b[38;5;241m=\u001b[39m \u001b[38;5;124m'\u001b[39m\u001b[38;5;124mthe calibrated melt_f, pf and temp.b to match geodetic mean observation, winter MB and approximately std of direct annual time series\u001b[39m\u001b[38;5;124m'\u001b[39m\n\u001b[0;32m----> 2\u001b[0m \u001b[43mcfg\u001b[49m\u001b[38;5;241;43m.\u001b[39;49m\u001b[43mBASENAMES\u001b[49m\u001b[43m[\u001b[49m\u001b[38;5;124;43m'\u001b[39;49m\u001b[38;5;124;43mcalib_geod_opt_winter_mb_approx_std\u001b[39;49m\u001b[38;5;124;43m'\u001b[39;49m\u001b[43m]\u001b[49m \u001b[38;5;241m=\u001b[39m (\u001b[38;5;124m'\u001b[39m\u001b[38;5;124mcalib_geod_opt_winter_mb_approx_std.json\u001b[39m\u001b[38;5;124m'\u001b[39m, _doc)\n\u001b[1;32m      4\u001b[0m _doc2 \u001b[38;5;241m=\u001b[39m \u001b[38;5;124m'\u001b[39m\u001b[38;5;124mthe calibrated melt_f and pf to match geodetic mean observation and winter MB bias, temp. bias set to zero!\u001b[39m\u001b[38;5;124m'\u001b[39m\n\u001b[1;32m      5\u001b[0m cfg\u001b[38;5;241m.\u001b[39mBASENAMES[\u001b[38;5;124m'\u001b[39m\u001b[38;5;124mcalib_geod_opt_winter_mb_temp_b_0\u001b[39m\u001b[38;5;124m'\u001b[39m] \u001b[38;5;241m=\u001b[39m (\u001b[38;5;124m'\u001b[39m\u001b[38;5;124mcalib_geod_opt_winter_mb_temp_b_0.json\u001b[39m\u001b[38;5;124m'\u001b[39m, _doc2)\n",
      "File \u001b[0;32m~/.local/lib/python3.10/site-packages/oggm/cfg.py:74\u001b[0m, in \u001b[0;36mDocumentedDict.__setitem__\u001b[0;34m(self, key, value)\u001b[0m\n\u001b[1;32m     72\u001b[0m     CONFIG_MODIFIED \u001b[38;5;241m=\u001b[39m \u001b[38;5;28;01mTrue\u001b[39;00m\n\u001b[1;32m     73\u001b[0m \u001b[38;5;28;01mexcept\u001b[39;00m \u001b[38;5;167;01mBaseException\u001b[39;00m:\n\u001b[0;32m---> 74\u001b[0m     \u001b[38;5;28;01mraise\u001b[39;00m \u001b[38;5;167;01mValueError\u001b[39;00m(\u001b[38;5;124m'\u001b[39m\u001b[38;5;124mDocumentedDict accepts only tuple of len 2\u001b[39m\u001b[38;5;124m'\u001b[39m)\n",
      "\u001b[0;31mValueError\u001b[0m: DocumentedDict accepts only tuple of len 2"
     ]
    }
   ],
   "source": [
    "_doc = 'the calibrated melt_f, pf and temp.b to match geodetic mean observation, winter MB and approximately std of direct annual time series'\n",
    "cfg.BASENAMES['calib_geod_opt_winter_mb_approx_std'] = ('calib_geod_opt_winter_mb_approx_std.json', _doc)\n",
    "\n",
    "_doc2 = 'the calibrated melt_f and pf to match geodetic mean observation and winter MB bias, temp. bias set to zero!'\n",
    "cfg.BASENAMES['calib_geod_opt_winter_mb_temp_b_0'] = ('calib_geod_opt_winter_mb_temp_b_0.json', _doc2)\n",
    "\n",
    "_doc3 = 'the calibrated melt_f and pf to match geodetic mean observation and interannual direct glaciological standard deviation, temp. bias set to zero!'\n",
    "cfg.BASENAMES['calib_geod_opt_std_temp_b_0'] = ('calib_geod_opt_std_temp_b_0.json', _doc3)\n",
    "\n",
    "_doc4 = 'the calibrated melt_f to match geodetic mean observation, no temp. bias and globally cte prcp. fac extracted from median of ref glacier matching direct glaciological standard deviation'\n",
    "cfg.BASENAMES['calib_only_geod_temp_b_0_pf_cte_via_std'] = ('calib_only_geod_temp_b_0_pf_cte_via_std.json', _doc4)\n",
    "_doc5 = 'the calibrated melt_f to match geodetic mean observation, no temp. bias and per glacier one prcp. factor extracted from median of ref glacier matching direct glaciological standard deviation'\n",
    "cfg.BASENAMES['calib_only_geod_temp_b_0_pf_fit_via_winter_mb'] = ('calib_only_geod_temp_b_0_pf_fit_via_winter_mb.json', _doc5)\n"
   ]
  },
  {
   "cell_type": "code",
   "execution_count": 39,
   "id": "cb0052ef-4eb5-4be3-bca5-802879db7a02",
   "metadata": {},
   "outputs": [],
   "source": [
    "calib_types = ['calib_geod_opt_winter_mb_approx_std',\n",
    "               'calib_geod_opt_winter_mb_temp_b_0',\n",
    "               'calib_geod_opt_std_temp_b_0',\n",
    "               'calib_only_geod_temp_b_0_pf_cte_via_std',\n",
    "               'calib_only_geod_temp_b_0_pf_fit_via_winter_mb']"
   ]
  },
  {
   "cell_type": "markdown",
   "id": "8d219f86-f35c-4a7e-a1d6-031549a71198",
   "metadata": {},
   "source": [
    "**Statistics about reference glacier data stuff**"
   ]
  },
  {
   "cell_type": "code",
   "execution_count": 40,
   "id": "82414a79-bb07-49e6-bd63-fc23224350ac",
   "metadata": {},
   "outputs": [
    {
     "name": "stdout",
     "output_type": "stream",
     "text": [
      "180\n"
     ]
    }
   ],
   "source": [
    "pd_t = pd_wgms_data_stats.loc[pd_wgms_data_stats.len_annual_balance>=10]\n",
    "print(len(pd_t))"
   ]
  },
  {
   "cell_type": "code",
   "execution_count": 41,
   "id": "67ff3be1-e705-488b-be77-a9facb8f9730",
   "metadata": {},
   "outputs": [
    {
     "name": "stdout",
     "output_type": "stream",
     "text": [
      "95\n"
     ]
    }
   ],
   "source": [
    "pd_t = pd_t.loc[pd_t.len_winter_balance_filtered>=5]\n",
    "print(len(pd_t))"
   ]
  },
  {
   "cell_type": "code",
   "execution_count": 42,
   "id": "06ea5ea5-30ae-4e19-b779-5ddc206e3f5c",
   "metadata": {},
   "outputs": [
    {
     "name": "stdout",
     "output_type": "stream",
     "text": [
      "118\n"
     ]
    }
   ],
   "source": [
    "print(len(pd_wgms_data_stats.loc[pd_wgms_data_stats.len_winter_balance_filtered>=5]))"
   ]
  },
  {
   "cell_type": "code",
   "execution_count": 43,
   "id": "1b0d474a-5062-4989-a796-6cf2e49f8aa8",
   "metadata": {},
   "outputs": [
    {
     "name": "stdout",
     "output_type": "stream",
     "text": [
      "247\n"
     ]
    }
   ],
   "source": [
    "print(len(ref_candidates)) # with at least 5 msm ... "
   ]
  },
  {
   "cell_type": "code",
   "execution_count": 44,
   "id": "08e3a70a-e995-4fc6-8254-200e40b5d4f1",
   "metadata": {},
   "outputs": [],
   "source": [
    "##rgi_working_for_all = pd.read_csv(f'/home/lilianschuster/Schreibtisch/PhD/Schuster_et_al_phd_paper_1/data/rgi_working_for_all_list.csv',\n",
    "#                                  index_col = 'Unnamed: 0')\n",
    "#rgi_working_for_all = list(rgi_working_for_all['0'].values)"
   ]
  },
  {
   "cell_type": "markdown",
   "id": "0bef9367-6efb-4771-a5e5-aeb4d8fb1f93",
   "metadata": {},
   "source": [
    "Load the calibration parameters:"
   ]
  },
  {
   "cell_type": "code",
   "execution_count": 45,
   "id": "cd21fdab-bbbe-467a-aee8-d79a93c4d0b8",
   "metadata": {},
   "outputs": [
    {
     "name": "stderr",
     "output_type": "stream",
     "text": [
      "/tmp/ipykernel_187646/86176513.py:30: SettingWithCopyWarning: \n",
      "A value is trying to be set on a copy of a slice from a DataFrame\n",
      "\n",
      "See the caveats in the documentation: https://pandas.pydata.org/pandas-docs/stable/user_guide/indexing.html#returning-a-view-versus-a-copy\n",
      "  pd_calib['changing melt_f with sfc type'].loc[pd_calib.melt_f_change == 'neg_exp'] += '_t' + pd_calib['tau_e_fold_yr'].loc[pd_calib.melt_f_change == 'neg_exp'].astype(str)+'yr'\n"
     ]
    },
    {
     "name": "stdout",
     "output_type": "stream",
     "text": [
      "{'sfc_type_distinction_linear_mb_monthly_cte': 110, 'sfc_type_distinction_linear_mb_monthly_var_an_cycle': 110, 'sfc_type_distinction_linear_mb_pseudo_daily_cte': 110, 'sfc_type_distinction_linear_mb_pseudo_daily_var_an_cycle': 110, 'sfc_type_distinction_linear_mb_pseudo_daily_fake_cte': 109, 'sfc_type_distinction_linear_mb_pseudo_daily_fake_var_an_cycle': 109, 'sfc_type_distinction_linear_mb_real_daily_cte': 110, 'sfc_type_distinction_linear_mb_real_daily_var_an_cycle': 110, 'sfc_type_distinction_neg_exp_t0.5yr_mb_monthly_cte': 110, 'sfc_type_distinction_neg_exp_t0.5yr_mb_monthly_var_an_cycle': 110, 'sfc_type_distinction_neg_exp_t0.5yr_mb_pseudo_daily_cte': 110, 'sfc_type_distinction_neg_exp_t0.5yr_mb_pseudo_daily_var_an_cycle': 110, 'sfc_type_distinction_neg_exp_t0.5yr_mb_pseudo_daily_fake_cte': 109, 'sfc_type_distinction_neg_exp_t0.5yr_mb_pseudo_daily_fake_var_an_cycle': 109, 'sfc_type_distinction_neg_exp_t0.5yr_mb_real_daily_cte': 110, 'sfc_type_distinction_neg_exp_t0.5yr_mb_real_daily_var_an_cycle': 110, 'sfc_type_distinction_neg_exp_t1.0yr_mb_monthly_cte': 110, 'sfc_type_distinction_neg_exp_t1.0yr_mb_monthly_var_an_cycle': 110, 'sfc_type_distinction_neg_exp_t1.0yr_mb_pseudo_daily_cte': 110, 'sfc_type_distinction_neg_exp_t1.0yr_mb_pseudo_daily_var_an_cycle': 110, 'sfc_type_distinction_neg_exp_t1.0yr_mb_pseudo_daily_fake_cte': 109, 'sfc_type_distinction_neg_exp_t1.0yr_mb_pseudo_daily_fake_var_an_cycle': 109, 'sfc_type_distinction_neg_exp_t1.0yr_mb_real_daily_cte': 110, 'sfc_type_distinction_neg_exp_t1.0yr_mb_real_daily_var_an_cycle': 110, 'sfc_type_distinction_False_mb_monthly_cte': 115, 'sfc_type_distinction_False_mb_monthly_var_an_cycle': 115, 'sfc_type_distinction_False_mb_pseudo_daily_cte': 115, 'sfc_type_distinction_False_mb_pseudo_daily_var_an_cycle': 115, 'sfc_type_distinction_False_mb_pseudo_daily_fake_cte': 114, 'sfc_type_distinction_False_mb_pseudo_daily_fake_var_an_cycle': 114, 'sfc_type_distinction_False_mb_real_daily_cte': 115, 'sfc_type_distinction_False_mb_real_daily_var_an_cycle': 115}\n",
      "247\n",
      "247\n",
      "247\n"
     ]
    },
    {
     "name": "stderr",
     "output_type": "stream",
     "text": [
      "/tmp/ipykernel_187646/86176513.py:110: SettingWithCopyWarning: \n",
      "A value is trying to be set on a copy of a slice from a DataFrame\n",
      "\n",
      "See the caveats in the documentation: https://pandas.pydata.org/pandas-docs/stable/user_guide/indexing.html#returning-a-view-versus-a-copy\n",
      "  pd_calib_std_quot_temp_b_0['changing melt_f with sfc type'].loc[pd_calib_std_quot_temp_b_0.melt_f_update == 'annual'] = pd_calib_std_quot_temp_b_0['changing melt_f with sfc type'].loc[pd_calib_std_quot_temp_b_0.melt_f_update == 'annual'].values + '_' + 'annual'\n",
      "/tmp/ipykernel_187646/86176513.py:112: SettingWithCopyWarning: \n",
      "A value is trying to be set on a copy of a slice from a DataFrame\n",
      "\n",
      "See the caveats in the documentation: https://pandas.pydata.org/pandas-docs/stable/user_guide/indexing.html#returning-a-view-versus-a-copy\n",
      "  pd_calib_std_quot_temp_b_0['changing melt_f with sfc type'].loc[pd_calib_std_quot_temp_b_0.melt_f_change == 'neg_exp'] += '_t' + pd_calib_std_quot_temp_b_0['tau_e_fold_yr'].loc[pd_calib_std_quot_temp_b_0.melt_f_change == 'neg_exp'].astype(str)+'yr'\n"
     ]
    }
   ],
   "source": [
    "# C2: calib_geod_opt_winter_mb_temp_b_0\n",
    "ts = []\n",
    "missing_no_sfc_type = []\n",
    "missing_sfc_type = []\n",
    "for rgi_id in ref_candidates:\n",
    "    try:\n",
    "        f = pd.read_csv(f'{path_calib_data}/calib_winter_mb_no_sfc_type_{rgi_id}_methodpre-check.csv',\n",
    "                        index_col = 'Unnamed: 0')\n",
    "        ts.append(f)\n",
    "\n",
    "    except:\n",
    "        try:\n",
    "            f = pd.read_csv(f'{path_calib_data}/calib_winter_mb_monthly_no_sfc_type_{rgi_id}_methodpre-check.csv', index_col = 'Unnamed: 0')\n",
    "            ts.append(f)\n",
    "            print(rgi_id)\n",
    "        except:\n",
    "            missing_no_sfc_type.append(rgi_id)\n",
    "            pass\n",
    "\n",
    "for rgi_id in ref_candidates:\n",
    "    try:\n",
    "        f = pd.read_csv(f'{path_calib_data}/calib_winter_mb_monthly_melt_f_update_{rgi_id}_methodpre-check.csv', index_col = 'Unnamed: 0')\n",
    "        ts.append(f)\n",
    "    except:\n",
    "        missing_sfc_type.append(rgi_id)\n",
    "pd_calib =pd.concat(ts)\n",
    "pd_calib = pd_calib.dropna(subset=['pf_opt', 'melt_f'])\n",
    "pd_calib['changing melt_f with sfc type'] = pd_calib['melt_f_change']\n",
    "pd_calib.loc[pd_calib.sfc_type_distinction==False, 'changing melt_f with sfc type'] = False\n",
    "pd_calib['changing melt_f with sfc type'].loc[pd_calib.melt_f_change == 'neg_exp'] += '_t' + pd_calib['tau_e_fold_yr'].loc[pd_calib.melt_f_change == 'neg_exp'].astype(str)+'yr' \n",
    "pd_calib_temp_b_0 = pd_calib.loc[pd_calib.temp_bias == 0]\n",
    "\n",
    "\n",
    "# C1: calib_geod_opt_winter_mb_approx_std\n",
    "# do not try to match perfectly std. quot but only that it deviates < 10%, then choose the one with smallest temp. bias\n",
    "exact_std_quot = False\n",
    "load = True\n",
    "if load:\n",
    "    rgi_id_dict = {}\n",
    "    rgi_id_len_dict = {}\n",
    "    pd_calib_opt_quot_std_ls =  []\n",
    "    for sfc_type in ['linear', 'neg_exp_t0.5yr',  'neg_exp_t1.0yr',\n",
    "                     'linear_annual', 'neg_exp_annual_t1.0yr', 'neg_exp_annual_t0.5yr', False]:\n",
    "    # for sfc_type in [False, 'linear', 'neg_exp']:\n",
    "        pd_calib_pre_sel = pd_calib.loc[pd_calib['changing melt_f with sfc type']==sfc_type]\n",
    "        for mb_type in pd_calib_pre_sel.mb_type.unique():\n",
    "            pd_calib_sel = pd_calib_pre_sel.loc[pd_calib_pre_sel.mb_type == mb_type]\n",
    "            for grad_type in pd_calib.grad_type.unique():\n",
    "                pd_calib_sel_sel = pd_calib_sel.loc[pd_calib_sel.grad_type == grad_type]\n",
    "                #print(len(pd_calib_sel_sel))\n",
    "                rgi_id_dict[f'sfc_type_distinction_{sfc_type}_{mb_type}_{grad_type}'] = pd_calib_sel_sel.rgi_id.unique()\n",
    "                rgi_id_len_dict[f'sfc_type_distinction_{sfc_type}_{mb_type}_{grad_type}'] = len(pd_calib_sel_sel.rgi_id.unique())\n",
    "\n",
    "                for rgi in pd_calib_sel_sel.rgi_id.unique():\n",
    "                    pd_calib_rgi = pd_calib_sel_sel[pd_calib_sel_sel.rgi_id == rgi]\n",
    "                    if exact_std_quot:\n",
    "                        opt_quot_std =  pd_calib_rgi.iloc[np.abs(np.array(pd_calib_rgi.quot_std-1)).argmin()]\n",
    "                    else:\n",
    "                        try:\n",
    "                            # if there is one or several temp.b bias with std. deviating less than 10%,\n",
    "                            # chooose the one with the smallest temp. bias\n",
    "                            pd_calib_rgi_quot_std_choices = pd_calib_rgi[np.abs(pd_calib_rgi.quot_std-1)<0.1]\n",
    "                            opt_quot_std = pd_calib_rgi_quot_std_choices.iloc[np.abs(pd_calib_rgi_quot_std_choices.temp_bias).argmin()]\n",
    "                        except:\n",
    "                            opt_quot_std =  pd_calib_rgi.iloc[np.abs(np.array(pd_calib_rgi.quot_std-1)).argmin()]\n",
    "\n",
    "                    pd_calib_opt_quot_std_ls.append(pd.DataFrame(opt_quot_std).T)\n",
    "\n",
    "    # first select again the opt_std\n",
    "    pd_calib_geod_opt_winter_mb_approx_std = pd.concat(pd_calib_opt_quot_std_ls)\n",
    "    working_mb_profile_len = len(pd_calib_geod_opt_winter_mb_approx_std.mae_mb_profile.dropna())\n",
    "    working_mb_profile_len_opt_quot = len(pd_calib_geod_opt_winter_mb_approx_std.mae_mb_profile.dropna())\n",
    "    pd_calib_geod_opt_winter_mb_approx_std.to_csv(f'{path_calib_data}/calib_opt_quot_std_approx_std_match.csv')\n",
    "    print(rgi_id_len_dict)\n",
    "else:\n",
    "    pd_calib_geod_opt_winter_mb_approx_std = pd.read_csv(f'{path_calib_data}/calib_opt_quot_std_approx_std_match.csv',\n",
    "                                                         index_col = ['Unnamed: 0'])\n",
    "\n",
    "\n",
    "# C3: calib_geod_opt_std_temp_b_0\n",
    "ts = []\n",
    "for rgi_id in ref_candidates:\n",
    "    try:\n",
    "        f = pd.read_csv(f'{path_calib_data}/calib_std_quot_no_sfc_type_{rgi_id}_methodpre-check.csv',\n",
    "                        index_col = 'Unnamed: 0')\n",
    "        ts.append(f)\n",
    "    except:\n",
    "        pass\n",
    "print(len(ts))\n",
    "for rgi_id in ref_candidates:\n",
    "    try:\n",
    "        f = pd.read_csv(f'{path_calib_data}/calib_std_quot_monthly_melt_f_update_{rgi_id}_methodpre-check.csv', index_col = 'Unnamed: 0')\n",
    "        ts.append(f)\n",
    "    except:\n",
    "        pass\n",
    "print(len(ts)-247)\n",
    "   \n",
    "for rgi_id in ref_candidates:\n",
    "    try:\n",
    "        f = pd.read_csv(f'{path_calib_data}/calib_std_quot_annual_melt_f_update_{rgi_id}_methodpre-check.csv', index_col = 'Unnamed: 0')\n",
    "        ts.append(f)\n",
    "    except:\n",
    "        pass\n",
    "print(len(ts)-247-247)\n",
    "\n",
    "pd_calib_std_quot_temp_b_0 = pd.concat(ts)\n",
    "# remove NaNs\n",
    "pd_calib_std_quot_temp_b_0 = pd_calib_std_quot_temp_b_0.dropna(subset=['pf_opt', 'melt_f'])\n",
    "pd_calib_std_quot_temp_b_0['changing melt_f with sfc type'] = pd_calib_std_quot_temp_b_0['melt_f_change']\n",
    "pd_calib_std_quot_temp_b_0['changing melt_f with sfc type'].loc[pd_calib_std_quot_temp_b_0.melt_f_update == 'annual'] = pd_calib_std_quot_temp_b_0['changing melt_f with sfc type'].loc[pd_calib_std_quot_temp_b_0.melt_f_update == 'annual'].values + '_' + 'annual'\n",
    "pd_calib_std_quot_temp_b_0.loc[pd_calib_std_quot_temp_b_0.sfc_type_distinction==False, 'changing melt_f with sfc type'] = False\n",
    "pd_calib_std_quot_temp_b_0['changing melt_f with sfc type'].loc[pd_calib_std_quot_temp_b_0.melt_f_change == 'neg_exp'] += '_t' + pd_calib_std_quot_temp_b_0['tau_e_fold_yr'].loc[pd_calib_std_quot_temp_b_0.melt_f_change == 'neg_exp'].astype(str)+'yr' \n",
    "#'_t'+ pd_calib_std_quot_temp_b_0['tau_e_fold_yr'].loc[pd_calib_std_quot_temp_b_0.melt_f_change == 'neg_exp'].values.astype(str)\n",
    "\n",
    "\n",
    "pd_calib_type_dict = {'calib_geod_opt_winter_mb_approx_std': pd_calib_geod_opt_winter_mb_approx_std,\n",
    "                      'calib_geod_opt_winter_mb_temp_b_0': pd_calib_temp_b_0,\n",
    "                      'calib_geod_opt_std_temp_b_0': pd_calib_std_quot_temp_b_0,\n",
    "                      }"
   ]
  },
  {
   "cell_type": "markdown",
   "id": "76e4cedb-b560-474d-b3b8-f4e493645ded",
   "metadata": {},
   "source": [
    "### Get median prcp-fac and then create \"C4\" and save it"
   ]
  },
  {
   "cell_type": "code",
   "execution_count": 46,
   "id": "7c485265-b105-4122-aea9-e7db28556e87",
   "metadata": {},
   "outputs": [
    {
     "data": {
      "text/plain": [
       "192"
      ]
     },
     "execution_count": 46,
     "metadata": {},
     "output_type": "execute_result"
    }
   ],
   "source": [
    "### GET median prcp-fac for the calib_only_geod_temp_b_0_pf_cte_via_std option!!!\n",
    "pd_calib_std_quot_temp_b_0.index = pd_calib_std_quot_temp_b_0.rgi_id\n",
    "ref_candidates_10_annual_balance = pd_wgms_data_stats.loc[pd_wgms_data_stats.len_annual_balance>= 10].rgi_id.values\n",
    "\n",
    "working_rgi_l = []\n",
    "for sfc_type in ['linear', 'neg_exp_t0.5yr',  'neg_exp_t1.0yr', 'linear_annual', 'neg_exp_annual_t1.0yr', 'neg_exp_annual_t0.5yr', False]:\n",
    "    pd_sel1 = pd_calib_std_quot_temp_b_0.loc[pd_calib_std_quot_temp_b_0['changing melt_f with sfc type'] == sfc_type]\n",
    "    for mb_type in ['mb_monthly', 'mb_pseudo_daily', 'mb_pseudo_daily_fake','mb_real_daily']:\n",
    "            pd_sel2 = pd_sel1.loc[pd_sel1.mb_type == mb_type]\n",
    "            for grad_type in ['cte', 'var_an_cycle']:\n",
    "                pd_sel3 = pd_sel2.loc[pd_sel2.grad_type == grad_type]\n",
    "                l = pd_sel3.rgi_id.unique()\n",
    "                #print(len(l))\n",
    "                if sfc_type == 'linear' and mb_type == 'mb_monthly' and grad_type == 'cte':\n",
    "                    working_rgi_l = l\n",
    "                else:\n",
    "                    working_rgi_l = list(set(working_rgi_l).intersection(l))\n",
    "        \n",
    "# print number of glaciers that work for all options (of that calib type):\n",
    "len(working_rgi_l)"
   ]
  },
  {
   "cell_type": "code",
   "execution_count": 47,
   "id": "65535cd3-6e84-4d7a-938d-9b90a5016dcf",
   "metadata": {},
   "outputs": [
    {
     "name": "stdout",
     "output_type": "stream",
     "text": [
      "147\n",
      "linear monthly 147\n",
      "linear monthly 147\n",
      "linear monthly 147\n",
      "linear monthly 147\n",
      "linear monthly 147\n",
      "linear monthly 147\n",
      "linear monthly 147\n",
      "linear monthly 147\n",
      "neg_exp_t0.5yr monthly 147\n",
      "neg_exp_t0.5yr monthly 147\n",
      "neg_exp_t0.5yr monthly 147\n",
      "neg_exp_t0.5yr monthly 147\n",
      "neg_exp_t0.5yr monthly 147\n",
      "neg_exp_t0.5yr monthly 147\n",
      "neg_exp_t0.5yr monthly 147\n",
      "neg_exp_t0.5yr monthly 147\n",
      "neg_exp_t1.0yr monthly 147\n",
      "neg_exp_t1.0yr monthly 147\n",
      "neg_exp_t1.0yr monthly 147\n",
      "neg_exp_t1.0yr monthly 147\n",
      "neg_exp_t1.0yr monthly 147\n",
      "neg_exp_t1.0yr monthly 147\n",
      "neg_exp_t1.0yr monthly 147\n",
      "neg_exp_t1.0yr monthly 147\n",
      "linear_annual annual 147\n",
      "linear_annual annual 147\n",
      "linear_annual annual 147\n",
      "linear_annual annual 147\n",
      "linear_annual annual 147\n",
      "linear_annual annual 147\n",
      "linear_annual annual 147\n",
      "linear_annual annual 147\n",
      "neg_exp_annual_t1.0yr annual 147\n",
      "neg_exp_annual_t1.0yr annual 147\n",
      "neg_exp_annual_t1.0yr annual 147\n",
      "neg_exp_annual_t1.0yr annual 147\n",
      "neg_exp_annual_t1.0yr annual 147\n",
      "neg_exp_annual_t1.0yr annual 147\n",
      "neg_exp_annual_t1.0yr annual 147\n",
      "neg_exp_annual_t1.0yr annual 147\n",
      "neg_exp_annual_t0.5yr annual 147\n",
      "neg_exp_annual_t0.5yr annual 147\n",
      "neg_exp_annual_t0.5yr annual 147\n",
      "neg_exp_annual_t0.5yr annual 147\n",
      "neg_exp_annual_t0.5yr annual 147\n",
      "neg_exp_annual_t0.5yr annual 147\n",
      "neg_exp_annual_t0.5yr annual 147\n",
      "neg_exp_annual_t0.5yr annual 147\n",
      "False annual 147\n",
      "False annual 147\n",
      "False annual 147\n",
      "False annual 147\n",
      "False annual 147\n",
      "False annual 147\n",
      "False annual 147\n",
      "False annual 147\n"
     ]
    }
   ],
   "source": [
    "# TODO: if this is wanted --> need to recompute the rgi_working_for_all !!!\n",
    "#rgi_working_for_all = pd.read_csv(f'/home/lilianschuster/Schreibtisch/PhD/Schuster_et_al_phd_paper_1/data/rgi_working_for_all_list.csv', index_col = 'Unnamed: 0')\n",
    "#rgi_working_for_all = list(rgi_working_for_all['0'].values)\n",
    "\n",
    "# get median pf for each option:\n",
    "# take all glaciers that have at least 10 years of annual balance! (and work for all options!)\n",
    "ref_candidates_10_annual_balance = pd_wgms_data_stats.loc[pd_wgms_data_stats.len_annual_balance>= 10].rgi_id.values\n",
    "ref_candidates_10_annual_balance = list(set(working_rgi_l).intersection(ref_candidates_10_annual_balance))\n",
    "print(len(ref_candidates_10_annual_balance))\n",
    "run = True\n",
    "if run:\n",
    "    pf_cte_dict_std_quot_temp_b_0 = {}\n",
    "    #pf_cte_dict_std_quot_temp_b_0_working_for_all = {}\n",
    "    for sfc_type in ['linear', 'neg_exp_t0.5yr',  'neg_exp_t1.0yr',\n",
    "                     'linear_annual', 'neg_exp_annual_t1.0yr', 'neg_exp_annual_t0.5yr', False]:\n",
    "        pd_sel1 = pd_calib_std_quot_temp_b_0.loc[pd_calib_std_quot_temp_b_0['changing melt_f with sfc type'] == sfc_type]\n",
    "        pd_sel1 = pd_sel1.loc[ref_candidates_10_annual_balance]\n",
    "        for mb_type in ['mb_monthly', 'mb_pseudo_daily',\n",
    "                        'mb_pseudo_daily_fake', 'mb_real_daily']:\n",
    "            pd_sel2 = pd_sel1.loc[pd_sel1.mb_type == mb_type]\n",
    "            for grad_type in ['cte', 'var_an_cycle']:\n",
    "                pd_sel3 = pd_sel2.loc[pd_sel2.grad_type == grad_type]\n",
    "                if 'annual' in str(sfc_type):\n",
    "                    melt_f_update = 'annual'\n",
    "                    if 'neg_exp' in str(sfc_type):\n",
    "                        sfc_type_sub = sfc_type[:-len('annual_t0.5yr')-1]+sfc_type[-7:]\n",
    "                    else:\n",
    "                        sfc_type_sub = sfc_type[:-len('annual')-1]\n",
    "                elif sfc_type is not False:\n",
    "                    melt_f_update = 'monthly'\n",
    "                    sfc_type_sub = sfc_type\n",
    "                if sfc_type is not False:\n",
    "                    pd_sel4 = pd_sel3.loc[pd_sel3.melt_f_update == melt_f_update]\n",
    "                    key = f'{melt_f_update}_melt_f_update_sfc_type_{sfc_type_sub}_{mb_type}_{grad_type}'\n",
    "                else:\n",
    "                    pd_sel4 = pd_sel3.copy()\n",
    "                    key = f'sfc_type_{sfc_type}_{mb_type}_{grad_type}'\n",
    "                # different to before --> it is the median of all glaciers \n",
    "                print(sfc_type, melt_f_update, len(pd_sel4))\n",
    "                pf_cte_dict_std_quot_temp_b_0[key] = pd_sel4.pf_opt.median()\n",
    "\n",
    "    import json  \n",
    "    with open(f\"{fpath}/0_pf_cte_median_dict_std_quot_temp_b_0.json\", \"w\") as outfile:\n",
    "        json.dump(pf_cte_dict_std_quot_temp_b_0, outfile)"
   ]
  },
  {
   "cell_type": "markdown",
   "id": "c036fda2-819d-4c54-9229-160c10cad1a8",
   "metadata": {},
   "source": [
    "**have to run `sbatch slurm_freq_5calib.slurm \"C4\"` in the terminal**"
   ]
  },
  {
   "cell_type": "code",
   "execution_count": 48,
   "id": "ca45ed90-737c-4c7b-8bc6-f5d4ae5a7469",
   "metadata": {},
   "outputs": [
    {
     "name": "stderr",
     "output_type": "stream",
     "text": [
      "/tmp/ipykernel_187646/3384621885.py:30: SettingWithCopyWarning: \n",
      "A value is trying to be set on a copy of a slice from a DataFrame\n",
      "\n",
      "See the caveats in the documentation: https://pandas.pydata.org/pandas-docs/stable/user_guide/indexing.html#returning-a-view-versus-a-copy\n",
      "  pd_calib_only_geod_temp_b_0_pf_cte_via_std['changing melt_f with sfc type'].loc[pd_calib_only_geod_temp_b_0_pf_cte_via_std.melt_f_update == 'annual'] = out\n",
      "/tmp/ipykernel_187646/3384621885.py:32: SettingWithCopyWarning: \n",
      "A value is trying to be set on a copy of a slice from a DataFrame\n",
      "\n",
      "See the caveats in the documentation: https://pandas.pydata.org/pandas-docs/stable/user_guide/indexing.html#returning-a-view-versus-a-copy\n",
      "  pd_calib_only_geod_temp_b_0_pf_cte_via_std['changing melt_f with sfc type'].loc[pd_calib_only_geod_temp_b_0_pf_cte_via_std.melt_f_change == 'neg_exp'] += '_t' + pd_calib_only_geod_temp_b_0_pf_cte_via_std['tau_e_fold_yr'].loc[pd_calib_only_geod_temp_b_0_pf_cte_via_std.melt_f_change == 'neg_exp'].astype(str)+'yr'\n"
     ]
    }
   ],
   "source": [
    "# C4: \n",
    "# calib_only_geod_temp_b_0_pf_cte_via_std\n",
    "ts = []\n",
    "for rgi_id in ref_candidates:\n",
    "    try:\n",
    "        f = pd.read_csv(f'{path_calib_data}/calib_only_geod_no_sfc_type_pf_cte_via_std_{rgi_id}_methodpre-check.csv',\n",
    "                        index_col = 'Unnamed: 0')\n",
    "        ts.append(f)\n",
    "    except:\n",
    "        pass\n",
    "for rgi_id in ref_candidates:\n",
    "    try:\n",
    "        f = pd.read_csv(f'{path_calib_data}/calib_only_geod_monthly_melt_f_update_pf_cte_via_std_{rgi_id}_methodpre-check.csv',\n",
    "                        index_col = 'Unnamed: 0')\n",
    "        ts.append(f)\n",
    "    except:\n",
    "        pass\n",
    "\n",
    "for rgi_id in ref_candidates:\n",
    "    try:\n",
    "        f = pd.read_csv(f'{path_calib_data}/calib_only_geod_annual_melt_f_update_pf_cte_via_std_{rgi_id}_methodpre-check.csv', index_col = 'Unnamed: 0')\n",
    "        ts.append(f)\n",
    "    except:\n",
    "        pass\n",
    "\n",
    "pd_calib_only_geod_temp_b_0_pf_cte_via_std = pd.concat(ts)\n",
    "pd_calib_only_geod_temp_b_0_pf_cte_via_std = pd_calib_only_geod_temp_b_0_pf_cte_via_std.dropna(subset=['pf_opt', 'melt_f'])\n",
    "pd_calib_only_geod_temp_b_0_pf_cte_via_std['changing melt_f with sfc type'] = pd_calib_only_geod_temp_b_0_pf_cte_via_std['melt_f_change']\n",
    "out = pd_calib_only_geod_temp_b_0_pf_cte_via_std['changing melt_f with sfc type'].loc[pd_calib_only_geod_temp_b_0_pf_cte_via_std.melt_f_update == 'annual'].values + '_' + 'annual'\n",
    "pd_calib_only_geod_temp_b_0_pf_cte_via_std['changing melt_f with sfc type'].loc[pd_calib_only_geod_temp_b_0_pf_cte_via_std.melt_f_update == 'annual'] = out\n",
    "pd_calib_only_geod_temp_b_0_pf_cte_via_std.loc[pd_calib_only_geod_temp_b_0_pf_cte_via_std.sfc_type_distinction==False, 'changing melt_f with sfc type'] = False\n",
    "pd_calib_only_geod_temp_b_0_pf_cte_via_std['changing melt_f with sfc type'].loc[pd_calib_only_geod_temp_b_0_pf_cte_via_std.melt_f_change == 'neg_exp'] += '_t' + pd_calib_only_geod_temp_b_0_pf_cte_via_std['tau_e_fold_yr'].loc[pd_calib_only_geod_temp_b_0_pf_cte_via_std.melt_f_change == 'neg_exp'].astype(str)+'yr' \n",
    "pd_calib_type_dict['calib_only_geod_temp_b_0_pf_cte_via_std'] = pd_calib_only_geod_temp_b_0_pf_cte_via_std"
   ]
  },
  {
   "cell_type": "code",
   "execution_count": 49,
   "id": "485c9fa3-3e99-40ec-a6ff-bd2015a852a7",
   "metadata": {},
   "outputs": [
    {
     "data": {
      "text/plain": [
       "241"
      ]
     },
     "execution_count": 49,
     "metadata": {},
     "output_type": "execute_result"
    }
   ],
   "source": [
    "len(pd_calib_type_dict['calib_only_geod_temp_b_0_pf_cte_via_std'].rgi_id.unique())"
   ]
  },
  {
   "cell_type": "markdown",
   "id": "149261f9-13d7-4a2d-a92a-f54a5dbe408a",
   "metadata": {},
   "source": [
    "### Create winter prcp regression and get $C_5$ calibration and merge it into one file"
   ]
  },
  {
   "cell_type": "code",
   "execution_count": 50,
   "id": "2a63a822-ce24-4303-8f90-e9d48eb611de",
   "metadata": {},
   "outputs": [
    {
     "name": "stdout",
     "output_type": "stream",
     "text": [
      "RGI60-19.00595\n",
      "RGI60-19.01992\n",
      "RGI60-19.02056\n",
      "RGI60-19.02059\n",
      "RGI60-17.14642\n",
      "RGI60-17.14681\n",
      "RGI60-17.14682\n",
      "RGI60-17.14889\n",
      "RGI60-17.02128\n",
      "RGI60-17.14203\n",
      "RGI60-16.01447\n",
      "RGI60-16.00532\n",
      "RGI60-16.00543\n",
      "RGI60-17.14887\n",
      "RGI60-17.13715\n",
      "RGI60-17.14874\n",
      "RGI60-17.14868\n",
      "RGI60-17.14871\n",
      "RGI60-17.14872\n",
      "RGI60-16.01355\n",
      "RGI60-16.01383\n",
      "RGI60-16.01339\n",
      "RGI60-16.01638\n",
      "RGI60-18.01130\n",
      "RGI60-18.02910\n",
      "RGI60-16.02444\n",
      "RGI60-16.01756\n",
      "RGI60-16.02086\n"
     ]
    }
   ],
   "source": [
    "pd_prcp_winter_daily_mean_gdir = pd.DataFrame(index=ref_candidates, columns=['prcp_winter_daily_mean', 'hemisphere'])\n",
    "run = True\n",
    "if run:\n",
    "    for gdir in gdirs:\n",
    "        fp = gdir.get_filepath('climate_historical', filesuffix='_daily_W5E5')\n",
    "        area = gdir.rgi_area_km2\n",
    "\n",
    "        ds_prcp = xr.open_dataset(fp).prcp\n",
    "        # other stats???\n",
    "        # ds_temp = xr.open_dataset(fp).temp\n",
    "\n",
    "        hemisphere = gdir.hemisphere\n",
    "        # if NH --- \n",
    "        if hemisphere == 'nh':\n",
    "            ds_prcp_winter = ds_prcp.where(ds_prcp['time.month'].isin([10,11,12,1,2,3,4]), drop=True)\n",
    "        else:\n",
    "            ds_prcp_winter = ds_prcp.where(ds_prcp['time.month'].isin([4,5,6,7,8,9,10]), drop=True)\n",
    "            print(gdir.rgi_id)\n",
    "\n",
    "        ## do this ... \n",
    "        prcp_winter_daily_mean = ds_prcp_winter.mean() # kg m-2 day-1\n",
    "        prcp_daily_mean = ds_prcp.mean() # kg m-2 day-1\n",
    "\n",
    "        #prcp_winter_daily_mean = ds_prcp_winter.mean() # kg m-2 day-1\n",
    "        pd_prcp_winter_daily_mean_gdir.loc[gdir.rgi_id, 'prcp_daily_mean_over_year'] = prcp_daily_mean.values\n",
    "        pd_prcp_winter_daily_mean_gdir.loc[gdir.rgi_id, 'prcp_winter_daily_mean'] = prcp_winter_daily_mean.values\n",
    "        pd_prcp_winter_daily_mean_gdir.loc[gdir.rgi_id, 'hemisphere'] = hemisphere\n",
    "        pd_prcp_winter_daily_mean_gdir.loc[gdir.rgi_id, 'area'] = area"
   ]
  },
  {
   "cell_type": "code",
   "execution_count": 51,
   "id": "fe639820-f99b-4f6b-95ff-9ce8b8f1f1fc",
   "metadata": {},
   "outputs": [
    {
     "name": "stderr",
     "output_type": "stream",
     "text": [
      "/tmp/ipykernel_187646/2115303444.py:4: SettingWithCopyWarning: \n",
      "A value is trying to be set on a copy of a slice from a DataFrame.\n",
      "Try using .loc[row_indexer,col_indexer] = value instead\n",
      "\n",
      "See the caveats in the documentation: https://pandas.pydata.org/pandas-docs/stable/user_guide/indexing.html#returning-a-view-versus-a-copy\n",
      "  pd_calib_type_dict[calib_type].loc[rgi, 'daily_yearly_prcp_mean_historical'] = pd_prcp_winter_daily_mean_gdir.loc[rgi, 'prcp_daily_mean_over_year']\n",
      "/tmp/ipykernel_187646/2115303444.py:5: SettingWithCopyWarning: \n",
      "A value is trying to be set on a copy of a slice from a DataFrame.\n",
      "Try using .loc[row_indexer,col_indexer] = value instead\n",
      "\n",
      "See the caveats in the documentation: https://pandas.pydata.org/pandas-docs/stable/user_guide/indexing.html#returning-a-view-versus-a-copy\n",
      "  pd_calib_type_dict[calib_type].loc[rgi, 'daily_winter_prcp_mean_historical'] = pd_prcp_winter_daily_mean_gdir.loc[rgi, 'prcp_winter_daily_mean']\n",
      "/tmp/ipykernel_187646/2115303444.py:6: SettingWithCopyWarning: \n",
      "A value is trying to be set on a copy of a slice from a DataFrame.\n",
      "Try using .loc[row_indexer,col_indexer] = value instead\n",
      "\n",
      "See the caveats in the documentation: https://pandas.pydata.org/pandas-docs/stable/user_guide/indexing.html#returning-a-view-versus-a-copy\n",
      "  pd_calib_type_dict[calib_type].loc[rgi, 'hemisphere'] = pd_prcp_winter_daily_mean_gdir.loc[rgi, 'hemisphere']\n",
      "/tmp/ipykernel_187646/2115303444.py:7: SettingWithCopyWarning: \n",
      "A value is trying to be set on a copy of a slice from a DataFrame.\n",
      "Try using .loc[row_indexer,col_indexer] = value instead\n",
      "\n",
      "See the caveats in the documentation: https://pandas.pydata.org/pandas-docs/stable/user_guide/indexing.html#returning-a-view-versus-a-copy\n",
      "  pd_calib_type_dict[calib_type].loc[rgi, 'area'] = pd_prcp_winter_daily_mean_gdir.loc[rgi, 'area']\n"
     ]
    }
   ],
   "source": [
    "calib_type = 'calib_geod_opt_winter_mb_temp_b_0'\n",
    "pd_calib_type_dict[calib_type].index = pd_calib_type_dict[calib_type]['rgi_id']\n",
    "for rgi in pd_calib_type_dict[calib_type].index.unique().dropna(): # .index:\n",
    "    pd_calib_type_dict[calib_type].loc[rgi, 'daily_yearly_prcp_mean_historical'] = pd_prcp_winter_daily_mean_gdir.loc[rgi, 'prcp_daily_mean_over_year']\n",
    "    pd_calib_type_dict[calib_type].loc[rgi, 'daily_winter_prcp_mean_historical'] = pd_prcp_winter_daily_mean_gdir.loc[rgi, 'prcp_winter_daily_mean']\n",
    "    pd_calib_type_dict[calib_type].loc[rgi, 'hemisphere'] = pd_prcp_winter_daily_mean_gdir.loc[rgi, 'hemisphere']\n",
    "    pd_calib_type_dict[calib_type].loc[rgi, 'area'] = pd_prcp_winter_daily_mean_gdir.loc[rgi, 'area']"
   ]
  },
  {
   "cell_type": "code",
   "execution_count": 52,
   "id": "775874b9-b232-4d58-99c1-0d054a31585f",
   "metadata": {},
   "outputs": [
    {
     "data": {
      "image/png": "[encoded data removed]",
      "text/plain": [
       "<Figure size 2000x1000 with 1 Axes>"
      ]
     },
     "metadata": {},
     "output_type": "display_data"
    }
   ],
   "source": [
    "### first do some post-processing of the data and some pre-plots\n",
    "# ATTENTION, here I use the relation \n",
    "def log_func(x, a, b):\n",
    "    r = a*np.log(x) +b\n",
    "    # don't allow extremely low/high prcp. factors!!!\n",
    "    if len(r) == 1:\n",
    "        if r > 10:\n",
    "            r = 10\n",
    "        if r<0.1:\n",
    "            r=0.1\n",
    "    else:\n",
    "        r[r>10] = 10\n",
    "        r[r<0.1] = 0.1\n",
    "    return r\n",
    "\n",
    "plt.figure(figsize=(20,10))\n",
    "only_one_hemisphere = False #True\n",
    "only_cte_grad_type = False #True #False #True #False#True\n",
    "only_var_an_cycle_grad_type = False #True\n",
    "hemisphere = 'all' #'nh' #'nh' #'sh' \n",
    "plt.suptitle('for all MB model options together of one calib type: ')\n",
    "\n",
    "for j, calib_type in enumerate(['calib_geod_opt_winter_mb_temp_b_0']):\n",
    "    plt.subplot(1,1,j+1)        \n",
    "    pd_params_stats_t = pd_calib_type_dict[calib_type] #pd_params_stats_all.loc[pd_params_stats_all.calib_type==calib_type]\n",
    "    pd_params_stats_t = pd_params_stats_t.loc[pd_params_stats_t.melt_f_update != 'annual']\n",
    "    #pd_params_stats_t = pd_params_stats_t.dropna()\n",
    "    if only_cte_grad_type:\n",
    "        pd_params_stats_t = pd_params_stats_t.loc[pd_params_stats_t.grad_type == 'cte']\n",
    "    elif only_var_an_cycle_grad_type:\n",
    "        pd_params_stats_t = pd_params_stats_t.loc[pd_params_stats_t.grad_type == 'var_an_cycle']\n",
    "    if only_one_hemisphere:\n",
    "        print(len(pd_params_stats_t.rgi_id.unique()))\n",
    "        pd_params_stats_t = pd_params_stats_t.loc[pd_params_stats_t.hemisphere == hemisphere]\n",
    "        print(len(pd_params_stats_t.rgi_id.unique()))\n",
    "    # could also just take those that have a minimum area\n",
    "    #pd_params_stats_t = pd_params_stats_t.loc[pd_params_stats_t.area >=0.5] # 0.15, 0.2\n",
    "    plt.plot(pd_params_stats_t['daily_winter_prcp_mean_historical'], \n",
    "             pd_params_stats_t.pf_opt, '.')\n",
    "    pearsonr,p_pearson = scipy.stats.pearsonr(pd_params_stats_t['daily_winter_prcp_mean_historical'],\n",
    "                                                              #pd_calib_type_sel_sel.pf_opt\n",
    "                                                              np.log(pd_params_stats_t.pf_opt)\n",
    "                                                )\n",
    "    n = len(pd_params_stats_t.rgi_id.unique())\n",
    "    plt.title(f'{calib_type}\\nR2: {np.square(pearsonr):.2f}, p-value: {p_pearson:.2e}, n={n} ')\n",
    "    plt.ylabel('prcp-fac')\n",
    "    plt.xlabel('winter prcp daily historical mean (1979-2019)')\n",
    "    x = pd_params_stats_t['daily_winter_prcp_mean_historical'].dropna().values.astype('float64')\n",
    "    y = pd_params_stats_t['pf_opt'].dropna().values.astype('float64')\n",
    "\n",
    "    plt.plot(x, y, '.')\n",
    "\n",
    "    pars, cov = scipy.optimize.curve_fit(f=log_func, xdata=x,  #pd_calib_opt_wfde5['solid prcp mean nopf weighted'].dropna(),\n",
    "                                         ydata=y)\n",
    "                                         #bounds=(0.0001, np.inf))\n",
    "\n",
    "    plt.plot(np.sort(x), log_func(np.sort(x), *pars), 'g--', label='logarithmic fit (a*log(x) + b):\\n a=%5.3f, b=%5.3f' % tuple(pars))\n",
    "\n",
    "    plt.legend()\n",
    "    plt.ylim([0,10])\n",
    "    plt.grid()\n",
    "    \n",
    "plt.tight_layout()\n",
    "\n",
    "# We are only interested in calib_geod_opt_winter_mb_temp_b_0 \n",
    "pd_params_stats_t.index.name = 'None'\n",
    "np.testing.assert_allclose(pd_params_stats_t.groupby('rgi_id').std()['daily_winter_prcp_mean_historical'].dropna(), 0, atol=0.01)\n",
    "pd_general_log_relation_pf_prcp_winter_mb_match = pd.DataFrame(pd_params_stats_t.groupby('rgi_id').mean()['daily_winter_prcp_mean_historical'])\n",
    "pd_general_log_relation_pf_prcp_winter_mb_match['daily_yearly_prcp_mean_historical'] = pd_params_stats_t.groupby('rgi_id').mean()['daily_yearly_prcp_mean_historical']\n",
    "pd_general_log_relation_pf_prcp_winter_mb_match['a_log_multiplier'] = pars[0]\n",
    "pd_general_log_relation_pf_prcp_winter_mb_match['b_intercept'] = pars[1]\n",
    "pd_general_log_relation_pf_prcp_winter_mb_match['pf_via_log_regression'] = log_func(pd_general_log_relation_pf_prcp_winter_mb_match['daily_winter_prcp_mean_historical'],\n",
    "                                                                                    pd_general_log_relation_pf_prcp_winter_mb_match['a_log_multiplier'],\n",
    "                                                                                    pd_general_log_relation_pf_prcp_winter_mb_match['b_intercept'])\n",
    "\n",
    "# will use that for another calibration option actually! \n",
    "pd_general_log_relation_pf_prcp_winter_mb_match.to_csv(f'{fpath}/0_winter_daily_prcp_mean_general_log_relation_pf_winter_mb_match.csv')"
   ]
  },
  {
   "cell_type": "markdown",
   "id": "ecd514b3-add1-4dbe-8fa2-20aade1c090b",
   "metadata": {},
   "source": [
    "**have to run `sbatch slurm_freq_5calib.slurm \"C5\"` in the terminal**"
   ]
  },
  {
   "cell_type": "code",
   "execution_count": 53,
   "id": "c9939d20-d822-47b4-9ba3-f1063f229459",
   "metadata": {},
   "outputs": [
    {
     "name": "stderr",
     "output_type": "stream",
     "text": [
      "/tmp/ipykernel_187646/3341818299.py:30: SettingWithCopyWarning: \n",
      "A value is trying to be set on a copy of a slice from a DataFrame\n",
      "\n",
      "See the caveats in the documentation: https://pandas.pydata.org/pandas-docs/stable/user_guide/indexing.html#returning-a-view-versus-a-copy\n",
      "  pd_calib_only_geod_temp_b_0_pf_via_winter_mb_log_fit['changing melt_f with sfc type'].loc[pd_calib_only_geod_temp_b_0_pf_via_winter_mb_log_fit.melt_f_update == 'annual'] = out\n",
      "/tmp/ipykernel_187646/3341818299.py:32: SettingWithCopyWarning: \n",
      "A value is trying to be set on a copy of a slice from a DataFrame\n",
      "\n",
      "See the caveats in the documentation: https://pandas.pydata.org/pandas-docs/stable/user_guide/indexing.html#returning-a-view-versus-a-copy\n",
      "  pd_calib_only_geod_temp_b_0_pf_via_winter_mb_log_fit['changing melt_f with sfc type'].loc[pd_calib_only_geod_temp_b_0_pf_via_winter_mb_log_fit.melt_f_change == 'neg_exp'] += '_t' + pd_calib_only_geod_temp_b_0_pf_via_winter_mb_log_fit['tau_e_fold_yr'].loc[pd_calib_only_geod_temp_b_0_pf_via_winter_mb_log_fit.melt_f_change == 'neg_exp'].astype(str)+'yr'\n"
     ]
    }
   ],
   "source": [
    "#  ONLY if log-fit has been estimated already and \n",
    "# calib_only_geod_temp_b_0_pf_fit_via_winter_mb\n",
    "ts = []\n",
    "for rgi_id in ref_candidates:\n",
    "    try:\n",
    "        f = pd.read_csv(f'{path_calib_data}/calib_only_geod_no_sfc_type_pf_via_winter_mb_log_fit_{rgi_id}_methodpre-check.csv',\n",
    "                        index_col = 'Unnamed: 0')\n",
    "        ts.append(f)\n",
    "    except:\n",
    "        pass\n",
    "for rgi_id in ref_candidates:\n",
    "    try:\n",
    "        f = pd.read_csv(f'{path_calib_data}/calib_only_geod_monthly_melt_f_update_pf_via_winter_mb_log_fit_{rgi_id}_methodpre-check.csv',\n",
    "                        index_col = 'Unnamed: 0')\n",
    "        ts.append(f)\n",
    "    except:\n",
    "        pass\n",
    "    \n",
    "for rgi_id in ref_candidates:\n",
    "    try:\n",
    "        f = pd.read_csv(f'{path_calib_data}/calib_only_geod_annual_melt_f_update_pf_via_winter_mb_log_fit_{rgi_id}_methodpre-check.csv',\n",
    "                        index_col = 'Unnamed: 0')\n",
    "        ts.append(f)\n",
    "    except:\n",
    "        pass\n",
    "pd_calib_only_geod_temp_b_0_pf_via_winter_mb_log_fit = pd.concat(ts)\n",
    "pd_calib_only_geod_temp_b_0_pf_via_winter_mb_log_fit = pd_calib_only_geod_temp_b_0_pf_via_winter_mb_log_fit.dropna(subset=['pf_opt', 'melt_f'])\n",
    "pd_calib_only_geod_temp_b_0_pf_via_winter_mb_log_fit['changing melt_f with sfc type'] = pd_calib_only_geod_temp_b_0_pf_via_winter_mb_log_fit['melt_f_change']\n",
    "out = pd_calib_only_geod_temp_b_0_pf_via_winter_mb_log_fit['changing melt_f with sfc type'].loc[pd_calib_only_geod_temp_b_0_pf_via_winter_mb_log_fit.melt_f_update == 'annual'].values + '_' + 'annual'\n",
    "pd_calib_only_geod_temp_b_0_pf_via_winter_mb_log_fit['changing melt_f with sfc type'].loc[pd_calib_only_geod_temp_b_0_pf_via_winter_mb_log_fit.melt_f_update == 'annual'] = out\n",
    "pd_calib_only_geod_temp_b_0_pf_via_winter_mb_log_fit.loc[pd_calib_only_geod_temp_b_0_pf_via_winter_mb_log_fit.sfc_type_distinction==False, 'changing melt_f with sfc type'] = False\n",
    "pd_calib_only_geod_temp_b_0_pf_via_winter_mb_log_fit['changing melt_f with sfc type'].loc[pd_calib_only_geod_temp_b_0_pf_via_winter_mb_log_fit.melt_f_change == 'neg_exp'] += '_t' + pd_calib_only_geod_temp_b_0_pf_via_winter_mb_log_fit['tau_e_fold_yr'].loc[pd_calib_only_geod_temp_b_0_pf_via_winter_mb_log_fit.melt_f_change == 'neg_exp'].astype(str)+'yr' \n",
    "\n",
    "pd_calib_type_dict['calib_only_geod_temp_b_0_pf_fit_via_winter_mb'] = pd_calib_only_geod_temp_b_0_pf_via_winter_mb_log_fit"
   ]
  },
  {
   "cell_type": "code",
   "execution_count": 54,
   "id": "32b67d38-d72d-4730-b0ea-324aca74f114",
   "metadata": {},
   "outputs": [
    {
     "data": {
      "text/plain": [
       "dict_keys(['calib_geod_opt_winter_mb_approx_std', 'calib_geod_opt_winter_mb_temp_b_0', 'calib_geod_opt_std_temp_b_0', 'calib_only_geod_temp_b_0_pf_cte_via_std', 'calib_only_geod_temp_b_0_pf_fit_via_winter_mb'])"
      ]
     },
     "execution_count": 54,
     "metadata": {},
     "output_type": "execute_result"
    }
   ],
   "source": [
    "pd_calib_type_dict.keys()"
   ]
  },
  {
   "cell_type": "markdown",
   "id": "ab11a97e-888b-46c8-9187-281b53f73516",
   "metadata": {},
   "source": [
    "### Merge all in one file:"
   ]
  },
  {
   "cell_type": "code",
   "execution_count": 55,
   "id": "366b18f2-0968-4e60-b0ea-1bdd98ee518d",
   "metadata": {},
   "outputs": [],
   "source": [
    "#pd_calib_type_dict[calib_types[0]].loc[(pd_calib_type_dict[calib_types[0]].sfc_type_distinction==True)]"
   ]
  },
  {
   "cell_type": "code",
   "execution_count": 56,
   "id": "559d3c57-ef58-445f-a89a-baa54654bec6",
   "metadata": {},
   "outputs": [
    {
     "name": "stderr",
     "output_type": "stream",
     "text": [
      "/tmp/ipykernel_187646/4047150346.py:7: SettingWithCopyWarning: \n",
      "A value is trying to be set on a copy of a slice from a DataFrame.\n",
      "Try using .loc[row_indexer,col_indexer] = value instead\n",
      "\n",
      "See the caveats in the documentation: https://pandas.pydata.org/pandas-docs/stable/user_guide/indexing.html#returning-a-view-versus-a-copy\n",
      "  pd_t['calib_type'] = calib_type\n",
      "/tmp/ipykernel_187646/4047150346.py:7: SettingWithCopyWarning: \n",
      "A value is trying to be set on a copy of a slice from a DataFrame.\n",
      "Try using .loc[row_indexer,col_indexer] = value instead\n",
      "\n",
      "See the caveats in the documentation: https://pandas.pydata.org/pandas-docs/stable/user_guide/indexing.html#returning-a-view-versus-a-copy\n",
      "  pd_t['calib_type'] = calib_type\n",
      "/tmp/ipykernel_187646/4047150346.py:7: SettingWithCopyWarning: \n",
      "A value is trying to be set on a copy of a slice from a DataFrame.\n",
      "Try using .loc[row_indexer,col_indexer] = value instead\n",
      "\n",
      "See the caveats in the documentation: https://pandas.pydata.org/pandas-docs/stable/user_guide/indexing.html#returning-a-view-versus-a-copy\n",
      "  pd_t['calib_type'] = calib_type\n",
      "/tmp/ipykernel_187646/4047150346.py:7: SettingWithCopyWarning: \n",
      "A value is trying to be set on a copy of a slice from a DataFrame.\n",
      "Try using .loc[row_indexer,col_indexer] = value instead\n",
      "\n",
      "See the caveats in the documentation: https://pandas.pydata.org/pandas-docs/stable/user_guide/indexing.html#returning-a-view-versus-a-copy\n",
      "  pd_t['calib_type'] = calib_type\n",
      "/tmp/ipykernel_187646/4047150346.py:7: SettingWithCopyWarning: \n",
      "A value is trying to be set on a copy of a slice from a DataFrame.\n",
      "Try using .loc[row_indexer,col_indexer] = value instead\n",
      "\n",
      "See the caveats in the documentation: https://pandas.pydata.org/pandas-docs/stable/user_guide/indexing.html#returning-a-view-versus-a-copy\n",
      "  pd_t['calib_type'] = calib_type\n",
      "/tmp/ipykernel_187646/4047150346.py:18: SettingWithCopyWarning: \n",
      "A value is trying to be set on a copy of a slice from a DataFrame\n",
      "\n",
      "See the caveats in the documentation: https://pandas.pydata.org/pandas-docs/stable/user_guide/indexing.html#returning-a-view-versus-a-copy\n",
      "  pd_params_stats['sfc_type'].loc[pd_params_stats['sfc_type'] == 'neg_exp\\nmonthly_t1.0yr'] = 'neg_exp\\nmonthly_t1yr'\n",
      "/tmp/ipykernel_187646/4047150346.py:19: SettingWithCopyWarning: \n",
      "A value is trying to be set on a copy of a slice from a DataFrame\n",
      "\n",
      "See the caveats in the documentation: https://pandas.pydata.org/pandas-docs/stable/user_guide/indexing.html#returning-a-view-versus-a-copy\n",
      "  pd_params_stats['sfc_type'].loc[pd_params_stats['sfc_type'] == 'neg_exp\\nannual_t1.0yr'] = 'neg_exp\\nannual_t1yr'\n"
     ]
    }
   ],
   "source": [
    "# reestimate that?\n",
    "# only look at \n",
    "pd_ts = []\n",
    "for calib_type in calib_types: # no also calib_only_geod_temp_b_0_pf_fit_via_winter_mb\n",
    "    pd_t = pd_calib_type_dict[calib_type]\n",
    "    pd_t = pd_t.loc[pd_t.tau_e_fold_yr!=0.5]\n",
    "    pd_t['calib_type'] = calib_type\n",
    "    pd_ts.append(pd_t)\n",
    "pd_params_stats = pd.concat(pd_ts)\n",
    "pd_params_stats.index = pd_params_stats.rgi_id\n",
    "pd_params_stats['mb_grad_type'] =  pd_params_stats['mb_type'].values + '_'+ pd_params_stats['grad_type'].values\n",
    "pd_params_stats.loc[pd_params_stats.sfc_type_distinction == False, 'sfc_type'] = 'False'\n",
    "pd_params_stats.loc[pd_params_stats.sfc_type_distinction == True,\n",
    "                    'sfc_type'] = pd_params_stats.loc[pd_params_stats.sfc_type_distinction == True,\n",
    "                                                      'melt_f_change'].values + '\\n' + pd_params_stats.loc[pd_params_stats.sfc_type_distinction == True,\n",
    "                                                                                                           'melt_f_update'].values \n",
    "pd_params_stats.loc[pd_params_stats.tau_e_fold_yr == 1.0,'sfc_type'] = pd_params_stats.loc[pd_params_stats.tau_e_fold_yr == 1.0,'sfc_type'] +'_t1.0yr'\n",
    "pd_params_stats['sfc_type'].loc[pd_params_stats['sfc_type'] == 'neg_exp\\nmonthly_t1.0yr'] = 'neg_exp\\nmonthly_t1yr'\n",
    "pd_params_stats['sfc_type'].loc[pd_params_stats['sfc_type'] == 'neg_exp\\nannual_t1.0yr'] = 'neg_exp\\nannual_t1yr'\n",
    "pd_params_stats_all = pd_params_stats.copy()\n",
    "#pd_params_stats_all = pd_params_stats_all.dropna(thresh=10)\n",
    "pd_params_stats_all.to_csv(f'{fpath}/0_pd_params_stats_not_working_for_all.csv')"
   ]
  },
  {
   "cell_type": "markdown",
   "id": "d654088f-8444-4516-959b-73b4dfaac6cc",
   "metadata": {},
   "source": [
    "get the glacier param stats that work for all calib and MB model options"
   ]
  },
  {
   "cell_type": "code",
   "execution_count": 57,
   "id": "0e12031a-77b5-4682-aebe-29ca16486e40",
   "metadata": {},
   "outputs": [
    {
     "data": {
      "text/plain": [
       "32376"
      ]
     },
     "execution_count": 57,
     "metadata": {},
     "output_type": "execute_result"
    }
   ],
   "source": [
    "len(pd_params_stats_all)"
   ]
  },
  {
   "cell_type": "code",
   "execution_count": 58,
   "id": "1ffb61a1-24a5-48c3-a90b-6eb7efc89420",
   "metadata": {},
   "outputs": [],
   "source": [
    "mb_grad_type_l_all = ['mb_monthly_cte', 'mb_monthly_var_an_cycle', 'mb_pseudo_daily_cte',\n",
    "       'mb_pseudo_daily_var_an_cycle', 'mb_pseudo_daily_fake_cte',\n",
    "       'mb_pseudo_daily_fake_var_an_cycle', 'mb_real_daily_cte',\n",
    "       'mb_real_daily_var_an_cycle']\n",
    "mb_grad_type_l_sh = ['mb_monthly_cte', 'mb_monthly_var_an_cycle',  'mb_real_daily_cte',\n",
    "                     'mb_pseudo_daily_fake_cte',\n",
    "       'mb_pseudo_daily_fake_var_an_cycle',\n",
    "       'mb_real_daily_var_an_cycle']"
   ]
  },
  {
   "cell_type": "code",
   "execution_count": 59,
   "id": "bfc5c669-ba1f-4998-84bd-a5918c27a190",
   "metadata": {},
   "outputs": [],
   "source": [
    "j = 0\n",
    "for calib_type in pd_params_stats_all.calib_type.unique():\n",
    "    for sfc_type in ['False', 'linear\\nmonthly', 'neg_exp\\nmonthly_t1yr']:\n",
    "                     #pd_params_stats_all.sfc_type.unique():\n",
    "        for mb_grad_type in mb_grad_type_l_sh:\n",
    "            _sel = pd_params_stats_all.loc[((pd_params_stats_all.calib_type==calib_type)\n",
    "                                            & (pd_params_stats_all.sfc_type==sfc_type) \n",
    "                                            & (pd_params_stats_all.mb_grad_type==mb_grad_type))]\n",
    "            rgi_id_w = _sel.rgi_id.unique()\n",
    "            #print(f'{calib_type}_{sfc_type}_{len(rgi_id_w)}')\n",
    "            if j == 0:\n",
    "                working_rgi_l = rgi_id_w\n",
    "            else:\n",
    "                working_rgi_l = list(set(working_rgi_l).intersection(rgi_id_w))\n",
    "            #print(len(working_rgi_l))\n",
    "            j+=1\n",
    "\n",
    "# save the working rgi list again ... \n",
    "pd.DataFrame(working_rgi_l).to_csv(f'{fpath}/0_rgi_working_for_all_list.csv')\n",
    "#rgi_working_for_all = list(rgi_working_for_all['0'].values)\n",
    "pd_params_stats_w_all = pd_params_stats_all.loc[working_rgi_l]            \n",
    "            \n",
    "pd_params_stats_w_all.to_csv(f'{fpath}/0_pd_params_stats_working_for_all.csv')"
   ]
  },
  {
   "cell_type": "code",
   "execution_count": 60,
   "id": "b74714ca-ac95-4708-8677-809a2ab74505",
   "metadata": {},
   "outputs": [
    {
     "data": {
      "text/plain": [
       "88"
      ]
     },
     "execution_count": 60,
     "metadata": {},
     "output_type": "execute_result"
    }
   ],
   "source": [
    "len(pd_params_stats_w_all.index.unique())"
   ]
  },
  {
   "cell_type": "code",
   "execution_count": 61,
   "id": "1438a8d5-6229-4959-9744-1ec620ed7b4d",
   "metadata": {},
   "outputs": [
    {
     "data": {
      "text/plain": [
       "88"
      ]
     },
     "execution_count": 61,
     "metadata": {},
     "output_type": "execute_result"
    }
   ],
   "source": [
    "len(working_rgi_l)"
   ]
  },
  {
   "cell_type": "markdown",
   "id": "dcb540fc-096b-4909-9d58-db3733ca349f",
   "metadata": {},
   "source": [
    "just a test if `mb_pseudo_daily` and `mb_pseudo_daily_fake` have similar calib options!"
   ]
  },
  {
   "cell_type": "code",
   "execution_count": 62,
   "id": "0436d6e3-4f2c-4af7-8c0c-70d4d6a71a39",
   "metadata": {},
   "outputs": [],
   "source": [
    "pd_t = pd_params_stats_all.copy()\n",
    "\n",
    "pd_t = pd_t.set_index(pd_t.rgi_id)\n",
    "pd_t = pd_t.loc[working_rgi_l].reset_index(drop=True)\n",
    "vals = pd_t[['melt_f', 'mb_type']].groupby('mb_type').median().loc[['mb_pseudo_daily',\n",
    "                                                                    'mb_pseudo_daily_fake'],\n",
    "                                           'melt_f'].values\n",
    "np.testing.assert_allclose((vals[0]-vals[1])/vals[0], 0, atol=0.01)"
   ]
  },
  {
   "cell_type": "markdown",
   "id": "f426b18b-ffbb-4146-9115-be2eef10d4e1",
   "metadata": {},
   "source": [
    "**write calib_params_to_gdirs**"
   ]
  },
  {
   "cell_type": "code",
   "execution_count": 107,
   "id": "eab84449-54dc-45fe-98a6-b63085559535",
   "metadata": {},
   "outputs": [],
   "source": [
    "write_calib_params_to_gdirs = False\n",
    "climate_type = 'W5E5'\n",
    "\n",
    "not_working_dict = {}\n",
    "if write_calib_params_to_gdirs:\n",
    "    for calib_type in calib_types:\n",
    "        not_working = []\n",
    "        if (calib_type == 'calib_geod_opt_std_temp_b_0') or (calib_type=='calib_only_geod_temp_b_0_pf_cte_via_std')\n",
    "            or (calib_type == 'calib_only_geod_temp_b_0_pf_fit_via_winter_mb'):\n",
    "            # works only for those calibration methods that do not use winter MB for calibration! \n",
    "            sfc_type_list = ['False', 'linear', 'neg_exp_t1.0yr', 'linear_annual',\n",
    "                             'neg_exp_annual_t1.0yr']\n",
    "        else:\n",
    "            sfc_type_list = ['False', 'linear', 'neg_exp_t1.0yr']\n",
    "        for sfc_type in sfc_type_list:\n",
    "            pd_calib_type = pd_calib_type_dict[calib_type]\n",
    "            pd_calib_type['changing melt_f with sfc type'].loc[pd_calib_type['changing melt_f with sfc type'] == False] = 'False'\n",
    "            pd_calib_pre_sel = pd_calib_type.loc[pd_calib_type['changing melt_f with sfc type']==sfc_type]\n",
    "\n",
    "            pd_calib_pre_sel = pd_calib_pre_sel.loc[pd_calib_pre_sel.tau_e_fold_yr != 0.5] # only 1.0 or None!!! \n",
    "            for mb_type in pd_calib_pre_sel.mb_type.unique():\n",
    "                pd_calib_sel = pd_calib_pre_sel.loc[pd_calib_pre_sel.mb_type == mb_type]\n",
    "                for grad_type in pd_calib_sel.grad_type.unique():\n",
    "                    pd_calib_sel_sel = pd_calib_sel.loc[pd_calib_sel.grad_type == grad_type]\n",
    "\n",
    "                    for gdir in gdirs:\n",
    "                        rgi_id = gdir.rgi_id\n",
    "                        pd_calib_rgi = pd_calib_sel_sel.loc[pd_calib_sel_sel.rgi_id == rgi_id]\n",
    "                        if len(pd_calib_rgi) == 1:\n",
    "                            # TODO: maybe also add type of mb_model_sub_class into fs ???\n",
    "                            if '_t1.0yr' in sfc_type:\n",
    "                                sfc_type_sub = sfc_type[:-len('_t1.0yr')]\n",
    "                            else:\n",
    "                                sfc_type_sub = sfc_type\n",
    "                            fs_new = '_{}_sfc_type_{}_{}_{}'.format(climate_type,\n",
    "                                                                    sfc_type_sub,\n",
    "                                                                    mb_type, grad_type)\n",
    "                            d = {'melt_f': pd_calib_rgi.melt_f.values[0],\n",
    "                                 'pf': pd_calib_rgi.pf_opt.values[0],\n",
    "                                 'temp_bias': pd_calib_rgi.temp_bias.values[0],\n",
    "                                 'tau_e_fold_yr': pd_calib_rgi.tau_e_fold_yr.values[0]}\n",
    "                            gdir.write_json(d, filename=calib_type, filesuffix=fs_new)\n",
    "                        else:\n",
    "                            not_working.append(gdir.rgi_id)\n",
    "                        if len(pd_calib_rgi)>1:\n",
    "                            f = pd_calib_rgi.copy()\n",
    "                            print(f'{gdir.rgi_id} sth. wrong')\n",
    "        not_working_dict[calib_type] = not_working\n",
    "        \n",
    "        print(len(set(not_working_dict[calib_type])))"
   ]
  },
  {
   "cell_type": "markdown",
   "id": "19f4410e-9b1e-41f5-88f0-1125b59d9657",
   "metadata": {},
   "source": [
    "**also already add the future climate :**"
   ]
  },
  {
   "cell_type": "code",
   "execution_count": 108,
   "id": "33698711-0968-40e3-ab73-362e8cc1713c",
   "metadata": {},
   "outputs": [],
   "source": [
    "load = False\n",
    "if load:\n",
    "    gcms = ['ukesm1-0-ll','gfdl-esm4', 'ipsl-cm6a-lr', 'mpi-esm1-2-hr', 'mri-esm2-0' ]\n",
    "    correction = False\n",
    "    for ensemble in gcms:\n",
    "        if ensemble == 'ukesm1-0-ll':\n",
    "            ensemble = ensemble + '_r1i1p1f2'\n",
    "        else:\n",
    "            ensemble = ensemble + '_r1i1p1f1'\n",
    "\n",
    "        if correction:\n",
    "            workflow.execute_entity_task(process_isimip_data, gdirs, ensemble = ensemble,\n",
    "                                     ssp = ssp, temporal_resol ='monthly',\n",
    "                                      climate_historical_filesuffix='_{}_{}'.format('monthly', climate_type) )\n",
    "            workflow.execute_entity_task(process_isimip_data, gdirs, ensemble = ensemble,\n",
    "                                     ssp = ssp, temporal_resol ='daily',\n",
    "                                      climate_historical_filesuffix='_{}_{}'.format('daily', climate_type) )\n",
    "        else:\n",
    "            #workflow.execute_entity_task(process_isimip_data_no_corr, gdirs, ensemble = ensemble,\n",
    "            #                         ssp = ssp, temporal_resol ='monthly',\n",
    "            #                          climate_historical_filesuffix='_{}_{}'.format('monthly', climate_type) )\n",
    "            #workflow.execute_entity_task(process_isimip_data_no_corr, gdirs, ensemble = ensemble,\n",
    "            #                         ssp = ssp, temporal_resol ='daily',\n",
    "            #                          climate_historical_filesuffix='_{}_{}'.format('daily', climate_type) )\n",
    "            workflow.execute_entity_task(process_isimip_data, gdirs, ensemble = ensemble,\n",
    "                                     ssp = 'ssp126', temporal_resol ='monthly',\n",
    "                                      climate_historical_filesuffix='_{}_{}'.format('monthly', climate_type), correct=correction )\n",
    "            workflow.execute_entity_task(process_isimip_data, gdirs, ensemble = ensemble,\n",
    "                                     ssp = 'ssp126', temporal_resol ='daily',\n",
    "                                      climate_historical_filesuffix='_{}_{}'.format('daily', climate_type), correct=correction )\n",
    "            workflow.execute_entity_task(process_isimip_data, gdirs, ensemble = ensemble,\n",
    "                                     ssp = 'ssp585', temporal_resol ='monthly',\n",
    "                                      climate_historical_filesuffix='_{}_{}'.format('monthly', climate_type), correct=correction )\n",
    "            workflow.execute_entity_task(process_isimip_data, gdirs, ensemble = ensemble,\n",
    "                                         ssp = 'ssp585', temporal_resol ='daily',\n",
    "                                          climate_historical_filesuffix='_{}_{}'.format('daily', climate_type), correct=correction )\n",
    "\n",
    "    #Computes the Flowline along the unglaciated downstream topography\n",
    "    workflow.execute_entity_task(tasks.compute_downstream_line, gdirs)\n",
    "    # The bedshape obtained by fitting a parabola to the line’s normals. Also computes the downstream’s altitude.\n",
    "    workflow.execute_entity_task(tasks.compute_downstream_bedshape, gdirs)"
   ]
  },
  {
   "cell_type": "code",
   "execution_count": null,
   "id": "b1f031fc-270a-4c98-9ce8-4923331684dd",
   "metadata": {},
   "outputs": [],
   "source": []
  },
  {
   "cell_type": "markdown",
   "id": "27ed1674-9e5d-41e2-a5b8-9ed633f0c1e4",
   "metadata": {
    "tags": []
   },
   "source": [
    "**files that are copied to my Laptop and used to create the Figures**\n",
    "- scp lschuster@cluster:/home/users/lschuster/Schuster_et_al_phd_paper_1_cluster/data"
   ]
  },
  {
   "cell_type": "code",
   "execution_count": null,
   "id": "d1c8baab-3a06-431d-86b9-721a517e898d",
   "metadata": {},
   "outputs": [],
   "source": []
  }
 ],
 "metadata": {
  "kernelspec": {
   "display_name": "Python 3 (ipykernel)",
   "language": "python",
   "name": "python3"
  },
  "language_info": {
   "codemirror_mode": {
    "name": "ipython",
    "version": 3
   },
   "file_extension": ".py",
   "mimetype": "text/x-python",
   "name": "python",
   "nbconvert_exporter": "python",
   "pygments_lexer": "ipython3",
   "version": "3.10.8"
  }
 },
 "nbformat": 4,
 "nbformat_minor": 5
}
